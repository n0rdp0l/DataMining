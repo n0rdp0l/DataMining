{
 "cells": [
  {
   "cell_type": "code",
   "execution_count": 1,
   "id": "073ae11e",
   "metadata": {},
   "outputs": [],
   "source": [
    "import pandas as pd\n",
    "import numpy as np\n",
    "import itertools \n",
    "import matplotlib.pyplot as plt"
   ]
  },
  {
   "cell_type": "code",
   "execution_count": null,
   "id": "d854571d",
   "metadata": {
    "scrolled": true
   },
   "outputs": [
    {
     "name": "stdout",
     "output_type": "stream",
     "text": [
      "iteration: 1\n"
     ]
    },
    {
     "name": "stderr",
     "output_type": "stream",
     "text": [
      "<ipython-input-2-f2bce92bf0f6>:30: FutureWarning: Calling a ufunc on non-aligned DataFrames (or DataFrame/Series combination). Currently, the indices are ignored and the result takes the index/columns of the first DataFrame. In the future , the DataFrames/Series will be aligned before applying the ufunc.\n",
      "Convert one of the arguments to a NumPy array (eg 'ufunc(df1, np.asarray(df2)') to keep the current behaviour, or align manually (eg 'df1, df2 = df1.align(df2)') before passing to the ufunc to obtain the future behaviour and silence this warning.\n",
      "  factoriz=pd.DataFrame(np.matmul(M, U), index=x.index, columns= x.columns)\n"
     ]
    },
    {
     "name": "stdout",
     "output_type": "stream",
     "text": [
      "iteration: 2\n",
      "iteration: 3\n",
      "iteration: 4\n",
      "iteration: 5\n",
      "iteration: 6\n",
      "iteration: 7\n",
      "iteration: 8\n",
      "iteration: 9\n",
      "iteration: 10\n",
      "iteration: 11\n",
      "iteration: 12\n",
      "iteration: 13\n",
      "iteration: 14\n",
      "iteration: 15\n",
      "iteration: 16\n",
      "iteration: 17\n",
      "iteration: 18\n",
      "iteration: 19\n",
      "iteration: 20\n",
      "iteration: 21\n",
      "iteration: 22\n",
      "iteration: 23\n",
      "iteration: 24\n",
      "iteration: 25\n",
      "iteration: 26\n",
      "iteration: 27\n",
      "iteration: 28\n",
      "iteration: 29\n",
      "iteration: 30\n",
      "iteration: 31\n",
      "iteration: 32\n",
      "iteration: 33\n",
      "iteration: 34\n",
      "iteration: 35\n",
      "iteration: 36\n",
      "iteration: 37\n",
      "iteration: 38\n",
      "iteration: 39\n",
      "iteration: 40\n",
      "iteration: 41\n",
      "iteration: 42\n",
      "iteration: 43\n",
      "iteration: 44\n",
      "iteration: 45\n",
      "iteration: 46\n",
      "iteration: 47\n",
      "iteration: 48\n",
      "iteration: 49\n",
      "iteration: 50\n",
      "iteration: 51\n",
      "iteration: 52\n",
      "iteration: 53\n",
      "iteration: 54\n",
      "iteration: 55\n",
      "iteration: 56\n",
      "iteration: 57\n",
      "iteration: 58\n",
      "iteration: 59\n",
      "iteration: 60\n",
      "iteration: 61\n",
      "iteration: 62\n",
      "iteration: 63\n",
      "iteration: 64\n",
      "iteration: 65\n",
      "iteration: 66\n",
      "iteration: 67\n",
      "iteration: 68\n",
      "iteration: 69\n",
      "iteration: 70\n",
      "iteration: 71\n"
     ]
    }
   ],
   "source": [
    "%run assignment_with_changes.ipynb"
   ]
  },
  {
   "cell_type": "code",
   "execution_count": null,
   "id": "9eb5618e",
   "metadata": {},
   "outputs": [],
   "source": [
    "# Find Id of movie with ratings\n",
    "rated_id = [id in np.array(ratings[['MovieID']]) for id in np.array(movies[['MovieID']])]\n",
    "movies_rated = movies.loc[rated_id]"
   ]
  },
  {
   "cell_type": "code",
   "execution_count": null,
   "id": "936be68d",
   "metadata": {},
   "outputs": [],
   "source": [
    "dates = [s[-5:-1] for s in movies_rated.loc[:,'Title']]"
   ]
  },
  {
   "cell_type": "code",
   "execution_count": null,
   "id": "5458f74c",
   "metadata": {},
   "outputs": [],
   "source": [
    "genres = [s.split('|')[0] for s in movies_rated.loc[:,'Genres']]"
   ]
  },
  {
   "cell_type": "code",
   "execution_count": null,
   "id": "54fbc3ba",
   "metadata": {},
   "outputs": [],
   "source": [
    "np.unique(genres)"
   ]
  },
  {
   "cell_type": "code",
   "execution_count": null,
   "id": "74961ece",
   "metadata": {},
   "outputs": [],
   "source": [
    "from sklearn.decomposition import PCA"
   ]
  },
  {
   "cell_type": "code",
   "execution_count": null,
   "id": "7e101eb4",
   "metadata": {},
   "outputs": [],
   "source": [
    "# Start by visualizing users\n",
    "pca = PCA(n_components=2)\n",
    "\n",
    "PCs = pca.fit_transform(U.transpose())"
   ]
  },
  {
   "cell_type": "code",
   "execution_count": null,
   "id": "66a4e4a1",
   "metadata": {},
   "outputs": [],
   "source": [
    "# Visualize users labelled by genders\n",
    "plt.figure(figsize=(10,10)) \n",
    "\n",
    "for gender in ['M', 'F']:\n",
    "    mask = np.array(users[['Gender']] == gender)\n",
    "    mask = [mask[i][0] for i in range(len(mask))]\n",
    "    plt.scatter(PCs[mask, 0], PCs[mask, 1], label=gender, s=25, alpha=1)\n",
    "\n",
    "plt.legend(bbox_to_anchor=(1.00, 1), loc='upper left',fontsize=20)"
   ]
  },
  {
   "cell_type": "code",
   "execution_count": null,
   "id": "3298614d",
   "metadata": {},
   "outputs": [],
   "source": [
    "# Visualize users labelled by age\n",
    "plt.figure(figsize=(10,10)) \n",
    "ages = np.unique(users['Age'])\n",
    "\n",
    "for age in ages:\n",
    "    mask = np.array(users[['Age']] == age)\n",
    "    mask = [mask[i][0] for i in range(len(mask))]\n",
    "    plt.scatter(PCs[mask, 0], PCs[mask, 1], label=age, s=25, alpha=1)\n",
    "\n",
    "plt.legend(bbox_to_anchor=(1.00, 1), loc='upper left',fontsize=20)"
   ]
  },
  {
   "cell_type": "code",
   "execution_count": null,
   "id": "4f8b9930",
   "metadata": {},
   "outputs": [],
   "source": [
    "# Visualize movies labelled by genre\n",
    "pca = PCA(n_components=2)\n",
    "\n",
    "PCs = pca.fit_transform(M)\n",
    "\n",
    "plt.figure(figsize=(10,10)) \n",
    "\n",
    "for genre in genres:\n",
    "    mask = np.array(genres) == genre\n",
    "    mask = [mask[i][0] for i in range(len(mask))]\n",
    "    plt.scatter(PCs[mask, 0], PCs[mask, 1], label=genre, s=25, alpha=1)\n",
    "\n",
    "plt.legend(bbox_to_anchor=(1.00, 1), loc='upper left',fontsize=20)"
   ]
  },
  {
   "cell_type": "code",
   "execution_count": null,
   "id": "07534f50",
   "metadata": {},
   "outputs": [],
   "source": [
    "# Visualize movies labelled by year of release\n",
    "plt.figure(figsize=(10,10)) \n",
    "\n",
    "for date in dates:\n",
    "    mask = np.array(dates) == date\n",
    "    mask = [mask[i][0] for i in range(len(mask))]\n",
    "    plt.scatter(PCs[mask, 0], PCs[mask, 1], label=date, s=25, alpha=1)\n",
    "\n",
    "plt.legend(bbox_to_anchor=(1.00, 1), loc='upper left',fontsize=20)"
   ]
  },
  {
   "cell_type": "markdown",
   "id": "d003ec1b",
   "metadata": {},
   "source": [
    "## UMAP"
   ]
  },
  {
   "cell_type": "code",
   "execution_count": null,
   "id": "f9f4403b",
   "metadata": {},
   "outputs": [],
   "source": [
    "import umap"
   ]
  },
  {
   "cell_type": "code",
   "execution_count": null,
   "id": "c4f4d705",
   "metadata": {},
   "outputs": [],
   "source": [
    "# Visualize users labelled by genders\n",
    "umap = umap.UMAP()\n",
    "X_u = umap.fit_transform(U.transpose())"
   ]
  },
  {
   "cell_type": "code",
   "execution_count": null,
   "id": "2a070a90",
   "metadata": {},
   "outputs": [],
   "source": [
    "plt.figure(figsize=(10,10)) \n",
    "\n",
    "for gender in ['M', 'F']:\n",
    "    mask = np.array(users[['Gender']]) == gender\n",
    "    mask = [mask[i][0] for i in range(len(mask))]\n",
    "    plt.scatter(X_u[mask, 0], X_u[mask, 1], label=gender, s=25, alpha=1)\n",
    "\n",
    "plt.legend(bbox_to_anchor=(1.00, 1), loc='upper left',fontsize=20)"
   ]
  },
  {
   "cell_type": "code",
   "execution_count": null,
   "id": "823d1119",
   "metadata": {},
   "outputs": [],
   "source": [
    "# Visualize users labelled by age\n",
    "plt.figure(figsize=(10,10)) \n",
    "ages = np.unique(users['Age'])\n",
    "\n",
    "for age in ages:\n",
    "    mask = np.array(users[['Age']]) == age\n",
    "    mask = [mask[i][0] for i in range(len(mask))]\n",
    "    plt.scatter(X_u[mask, 0], X_u[mask, 1], label=age, s=25, alpha=1)\n",
    "\n",
    "plt.legend(bbox_to_anchor=(1.00, 1), loc='upper left',fontsize=20)"
   ]
  },
  {
   "cell_type": "code",
   "execution_count": null,
   "id": "d4a12398",
   "metadata": {},
   "outputs": [],
   "source": [
    "# Visualize movies labelled by genre\n",
    "umap = umap.UMAP()\n",
    "X_m = umap.fit_transform(M)\n",
    "\n",
    "plt.figure(figsize=(10,10)) \n",
    "\n",
    "for genre in genres:\n",
    "    mask = np.array(genres) == genre\n",
    "    mask = [mask[i][0] for i in range(len(mask))]\n",
    "    plt.scatter(X_m[mask, 0], X_m[mask, 1], label=genre, s=25, alpha=1)\n",
    "\n",
    "plt.legend(bbox_to_anchor=(1.00, 1), loc='upper left',fontsize=20)"
   ]
  },
  {
   "cell_type": "code",
   "execution_count": null,
   "id": "d183e057",
   "metadata": {},
   "outputs": [],
   "source": [
    "# Visualize movies labelled by year of release\n",
    "plt.figure(figsize=(10,10)) \n",
    "\n",
    "for date in dates:\n",
    "    mask = np.array(dates) == date\n",
    "    mask = [mask[i][0] for i in range(len(mask))]\n",
    "    plt.scatter(X_m[mask, 0], X_m[mask, 1], label=date, s=25, alpha=1)\n",
    "\n",
    "plt.legend(bbox_to_anchor=(1.00, 1), loc='upper left',fontsize=20)"
   ]
  },
  {
   "cell_type": "markdown",
   "id": "d5f7fc3d",
   "metadata": {},
   "source": [
    "## T-SNE"
   ]
  },
  {
   "cell_type": "code",
   "execution_count": null,
   "id": "49acecbc",
   "metadata": {},
   "outputs": [],
   "source": [
    "from sklearn.manifold import TSNE"
   ]
  },
  {
   "cell_type": "code",
   "execution_count": null,
   "id": "bc91b006",
   "metadata": {},
   "outputs": [],
   "source": [
    "# Visualize users labelled by genders\n",
    "t_sne = TSNE(n_components=2)\n",
    "U_tsne = t_sne.fit_transform(U.transpose())\n",
    "\n",
    "plt.figure(figsize=(10,10)) \n",
    "\n",
    "for gender in ['M', 'F']:\n",
    "    mask = np.array(users[['Gender']]) == gender\n",
    "    mask = [mask[i][0] for i in range(len(mask))]\n",
    "    plt.scatter(U_tsne[mask, 0], U_tsne[mask, 1], label=gender, s=25, alpha=1)\n",
    "\n",
    "plt.legend(bbox_to_anchor=(1.00, 1), loc='upper left',fontsize=20)"
   ]
  },
  {
   "cell_type": "code",
   "execution_count": null,
   "id": "2361f5a5",
   "metadata": {},
   "outputs": [],
   "source": [
    "# Visualize users labelled by age\n",
    "plt.figure(figsize=(10,10)) \n",
    "ages = np.unique(users['Age'])\n",
    "\n",
    "for age in ages:\n",
    "    mask = np.array(users[['Age']]) == age\n",
    "    mask = [mask[i][0] for i in range(len(mask))]\n",
    "    plt.scatter(U_tsne[mask, 0], U_tsne[mask, 1], label=age, s=25, alpha=1)\n",
    "\n",
    "plt.legend(bbox_to_anchor=(1.00, 1), loc='upper left',fontsize=20)"
   ]
  },
  {
   "cell_type": "code",
   "execution_count": null,
   "id": "971162a3",
   "metadata": {},
   "outputs": [],
   "source": [
    "# Visualize movies labelled by genre\n",
    "t_sne = TSNE(n_components=2)\n",
    "M_tsne = t_sne.fit_transform(M)\n",
    "\n",
    "plt.figure(figsize=(10,10)) \n",
    "\n",
    "for genre in genres:\n",
    "    mask = np.array(genres) == genre\n",
    "    mask = [mask[i][0] for i in range(len(mask))]\n",
    "    plt.scatter(M_tsne[mask, 0], M_tsne[mask, 1], label=genre, s=25, alpha=1)\n",
    "\n",
    "plt.legend(bbox_to_anchor=(1.00, 1), loc='upper left',fontsize=20)"
   ]
  },
  {
   "cell_type": "code",
   "execution_count": null,
   "id": "067c01a3",
   "metadata": {},
   "outputs": [],
   "source": [
    "# Visualize movies labelled by year of release\n",
    "plt.figure(figsize=(10,10)) \n",
    "\n",
    "for date in dates:\n",
    "    mask = np.array(dates) == date\n",
    "    mask = [mask[i][0] for i in range(len(mask))]\n",
    "    plt.scatter(M_tsne[mask, 0], M_tsne[mask, 1], label=date, s=25, alpha=1)\n",
    "\n",
    "plt.legend(bbox_to_anchor=(1.00, 1), loc='upper left',fontsize=20)"
   ]
  },
  {
   "cell_type": "code",
   "execution_count": null,
   "id": "6c2060e5",
   "metadata": {},
   "outputs": [],
   "source": []
  }
 ],
 "metadata": {
  "kernelspec": {
   "display_name": "Python 3",
   "language": "python",
   "name": "python3"
  },
  "language_info": {
   "codemirror_mode": {
    "name": "ipython",
    "version": 3
   },
   "file_extension": ".py",
   "mimetype": "text/x-python",
   "name": "python",
   "nbconvert_exporter": "python",
   "pygments_lexer": "ipython3",
   "version": "3.8.8"
  }
 },
 "nbformat": 4,
 "nbformat_minor": 5
}
