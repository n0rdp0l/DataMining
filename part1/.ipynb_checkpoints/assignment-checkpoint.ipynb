{
 "cells": [
  {
   "cell_type": "code",
   "execution_count": null,
   "id": "6b3d6241",
   "metadata": {},
   "outputs": [],
   "source": [
    "import numpy as np\n",
    "import pandas as pd\n",
    "import sklearn\n",
    "import numpy.ma as ma\n",
    "import random\n",
    "random.seed(3)"
   ]
  },
  {
   "cell_type": "code",
   "execution_count": null,
   "id": "ab046b70",
   "metadata": {},
   "outputs": [],
   "source": [
    "movies = pd.read_csv(\n",
    "    'Assignment_1/ml-1m/movies.dat',\n",
    "    sep = \"::\",\n",
    "    names = ['MovieID', 'Title', 'Genres'],\n",
    "    encoding='latin-1',\n",
    "    engine='python',\n",
    ")\n",
    "\n",
    "movies.head()"
   ]
  },
  {
   "cell_type": "code",
   "execution_count": null,
   "id": "3e29dd6d",
   "metadata": {},
   "outputs": [],
   "source": [
    "ratings = pd.read_csv(\n",
    "    'Assignment_1/ml-1m/ratings.dat',\n",
    "    sep = \"::\",\n",
    "    names = ['UserID', 'MovieID', 'Rating', 'Timestamp'],\n",
    "    encoding='latin-1',\n",
    "    engine='python',\n",
    ")\n",
    "\n",
    "ratings.head()"
   ]
  },
  {
   "cell_type": "code",
   "execution_count": null,
   "id": "f997b11e",
   "metadata": {},
   "outputs": [],
   "source": [
    "users = pd.read_csv(\n",
    "    'Assignment_1/ml-1m/users.dat',\n",
    "    sep = \"::\",\n",
    "    names = ['UserID', 'Gender', 'Age', 'Occupation', 'Zip-code'],\n",
    "    encoding='latin-1',\n",
    "    engine='python',\n",
    ")\n",
    "\n",
    "users.head()"
   ]
  },
  {
   "cell_type": "code",
   "execution_count": null,
   "id": "a58633cd",
   "metadata": {},
   "outputs": [],
   "source": [
    "from sklearn.model_selection import train_test_split\n",
    "from sklearn import datasets\n",
    "from sklearn import svm\n",
    "from sklearn.linear_model import LinearRegression\n"
   ]
  },
  {
   "cell_type": "code",
   "execution_count": null,
   "id": "ccd8dfc6",
   "metadata": {},
   "outputs": [],
   "source": [
    "## Global rating method\n",
    "\n",
    "x = ratings.sample(frac = 1)\n",
    "X = np.array_split(x, 5)\n",
    "\n",
    "rmses = []\n",
    "maes = []\n",
    "\n",
    "for i in range(5):\n",
    "    X_test = X[i]\n",
    "    X_train = pd.concat([X[j] for j in range(5) if j!=i])\n",
    "    average_score = np.mean(X_train['Rating'])\n",
    "    reccomendations = np.array([average_score]*len(X_test))\n",
    "    rmse = np.sqrt(np.mean((reccomendations - X_test['Rating'])**2))\n",
    "    rmses += [rmse]\n",
    "    mae = np.mean(abs(reccomendations - X_test['Rating']))\n",
    "    maes += [mae]"
   ]
  },
  {
   "cell_type": "code",
   "execution_count": null,
   "id": "d4ec6726",
   "metadata": {},
   "outputs": [],
   "source": [
    "## Per user rating\n",
    "\n",
    "x = ratings.sample(frac = 1)\n",
    "X = np.array_split(x, 5)\n",
    "\n",
    "rmses = []\n",
    "maes = []\n",
    "\n",
    "for i in range(5):\n",
    "    X_test = X[i]\n",
    "    X_train = pd.concat([X[j] for j in range(5) if j!=i])\n",
    "    reccomendations=[]\n",
    "    rat=dict.fromkeys(np.unique(X_train['UserID']))\n",
    "    \n",
    "    for user in np.unique(X_train['UserID']):\n",
    "        rat[user]=X_train.loc[X_train['UserID']==user]['Rating'].mean()\n",
    "    for user in X_test['UserID']:\n",
    "        if user in rat:\n",
    "            reccomendations.append(rat[user])\n",
    "        else:\n",
    "            reccomendations.append(np.mean(X_train['Rating']))\n",
    "    \n",
    "    rmse = np.sqrt(np.mean((reccomendations - X_test['Rating'])**2))\n",
    "    rmses += [rmse]\n",
    "    mae = np.mean(abs(reccomendations - X_test['Rating']))\n",
    "    maes += [mae]"
   ]
  },
  {
   "cell_type": "code",
   "execution_count": null,
   "id": "cf72b434",
   "metadata": {},
   "outputs": [],
   "source": [
    "## Per item rating\n",
    "\n",
    "x = ratings.sample(frac = 1)\n",
    "X = np.array_split(x, 5)\n",
    "\n",
    "rmses = []\n",
    "maes = []\n",
    "\n",
    "for i in range(5):\n",
    "    X_test = X[i]\n",
    "    X_train = pd.concat([X[j] for j in range(5) if j!=i])\n",
    "    reccomendations=[]\n",
    "    rat=dict.fromkeys(np.unique(X_train['MovieID']))\n",
    "    \n",
    "    for movie in np.unique(X_train['MovieID']):\n",
    "        rat[movie]=X_train.loc[X_train['MovieID']==movie]['Rating'].mean()\n",
    "    for movie in X_test['MovieID']:\n",
    "        if movie in rat:\n",
    "            reccomendations.append(rat[movie])\n",
    "        else:\n",
    "            reccomendations.append(np.mean(X_train['Rating']))\n",
    "    \n",
    "    rmse = np.sqrt(np.mean((reccomendations - X_test['Rating'])**2))\n",
    "    rmses += [rmse]\n",
    "    mae = np.mean(abs(reccomendations - X_test['Rating']))\n",
    "    maes += [mae]"
   ]
  },
  {
   "cell_type": "code",
   "execution_count": null,
   "id": "391eaf73",
   "metadata": {},
   "outputs": [],
   "source": [
    "##Linear regression\n",
    "###TO DO:\n",
    "# ADJUST FOR >5 OR <1\n",
    "# ADJUST FOR WHEN THERE IS NO MOVIE/USER AVG\n",
    "# MAKE ENTRIES INTEGER?\n",
    "\n",
    "x = ratings.sample(frac = 1)\n",
    "X = np.array_split(x, 5)\n",
    "simrmses = [] #simple = no intercept\n",
    "simmaes = []\n",
    "rmses = []\n",
    "maes = []\n",
    "\n",
    "for i in range(5):\n",
    "    X_test = X[i]\n",
    "    X_train = pd.concat([X[j] for j in range(5) if j!=i])\n",
    "    \n",
    "    train=X_train.pivot(index='MovieID', columns='UserID', values='Rating') #Training set into matrix form\n",
    "    colavg=train.mean() #User average\n",
    "    rowavg=train.mean(axis=1) #Movie average\n",
    "    average_score = np.mean(X_train['Rating']) #Average score (in case missing values for test set)\n",
    "    \n",
    "    indexes=train[train.notnull()].stack().index #Indexes of all the non-NA values\n",
    "    lr=[]\n",
    "    for k in indexes:\n",
    "        lr.append((rowavg[k[0]],colavg[k[1]],train.loc[k[0],k[1]])) #Create a list of (Movie_avg, User_avg, Rating)\n",
    "        \n",
    "    df = pd.DataFrame(lr, columns = ['x1', 'x2','y'])\n",
    "    simplereg=LinearRegression(fit_intercept=False).fit(df.iloc[:,0:2],df.iloc[:,2]) #Linear regression without intercept\n",
    "    reg=LinearRegression().fit(df.iloc[:,0:2],df.iloc[:,2]) #Linear regression with intercept\n",
    "    \n",
    "    for i in range(ratings['MovieID'].max()):\n",
    "        if (i not in rowavg):\n",
    "            rowavg[i]=average_score #If in the test set there is no movie average, use global average\n",
    "    for i in range(ratings['UserID'].max()):\n",
    "        if (i not in colavg):\n",
    "            colavg[i]=average_score\n",
    "            \n",
    "    #Recommendation computed with linear regression without intercept\n",
    "    simplereccom = simplereg.coef_[0]*rowavg[X_test['MovieID']].reset_index()[0]+simplereg.coef_[1]*colavg[X_test['UserID']].reset_index()[0]\n",
    "    #Recommendation computed with linear regression with intercept\n",
    "    reccom = reg.intercept_+reg.coef_[0]*rowavg[X_test['MovieID']].reset_index()[0]+reg.coef_[1]*colavg[X_test['UserID']].reset_index()[0]\n",
    "    \n",
    "    simrmse = np.sqrt(np.mean((simplereccom - X_test['Rating'].reset_index()['Rating'])**2))\n",
    "    simrmses += [simrmse]\n",
    "    simmae = np.mean(abs(simplereccom - X_test['Rating'].reset_index()['Rating']))\n",
    "    simmaes += [simmae]\n",
    "    \n",
    "    rmse = np.sqrt(np.mean((reccom - X_test['Rating'].reset_index()['Rating'])**2))\n",
    "    rmses += [rmse]\n",
    "    mae = np.mean(abs(reccom - X_test['Rating'].reset_index()['Rating']))\n",
    "    maes += [mae]"
   ]
  },
  {
   "cell_type": "code",
   "execution_count": null,
   "id": "060c9f65",
   "metadata": {},
   "outputs": [],
   "source": [
    "#MATRIX FACTORIZATION\n",
    "# google colab / runtime - cambia tipo - GPU/TPU\n",
    "x = ratings.sample(frac = 1)\n",
    "X = np.array_split(x, 5)\n",
    "learn_rate=0.005\n",
    "reg=0.05\n",
    "num_factors=10\n",
    "num_iter=75\n",
    "\n",
    "rmses = []\n",
    "maes = []\n",
    "\n",
    "for i in range(1):\n",
    "    X_test = X[i]\n",
    "    X_train = pd.concat([X[j] for j in range(5) if j!=i])\n",
    "    train=X_train.pivot(index='MovieID', columns='UserID', values='Rating')\n",
    "    test = X_test.pivot(index='MovieID', columns='UserID', values='Rating')\n",
    "    \n",
    "    M=np.random.rand(train.shape[0],num_factors)\n",
    "    M=pd.DataFrame(M, index=train.index)\n",
    "    U=np.random.rand(num_factors,train.shape[1])\n",
    "    U=pd.DataFrame(U, columns=train.columns)\n",
    "    \n",
    "    indexes=train[train.notnull()].stack().index\n",
    "    iterat=1\n",
    "    rmse=100\n",
    "    newrmse=99\n",
    "    \n",
    "    while (iterat < num_iter and newrmse-rmse < 0.01 ):\n",
    "        print('Set: ' + str(i) + ', iteration: ' + str(iterat))\n",
    "        iterat += 1\n",
    "        for k in indexes:\n",
    "            movie = M.loc[k[0],]\n",
    "            user = U.loc[:,k[1]]\n",
    "            x_hat = np.dot(movie,user)\n",
    "            error = train.loc[k[0],k[1]] - x_hat\n",
    "            M.loc[k[0],] = movie + learn_rate * (2*error*user - reg*movie)\n",
    "            U.loc[:,k[1]] = user + learn_rate * (2*error*movie - reg*user)\n",
    "            \n",
    "        factoriz=pd.DataFrame(np.matmul(M, U), index=train.index, columns= train.columns)\n",
    "        rmse=newrmse\n",
    "        newrmse=np.sqrt(((factoriz[factoriz.columns & test.columns]-test)**2).mean().mean())\n",
    "            \n",
    "    #rmse = np.sqrt(np.mean((np.matmul(M, U)-train)**2))\n",
    "    rmses += [newrmse]\n",
    "    mae = abs(factoriz[factoriz.columns & test.columns]-test).mean().mean()\n",
    "    maes += [mae]"
   ]
  },
  {
   "cell_type": "code",
   "execution_count": null,
   "id": "437c46d9",
   "metadata": {},
   "outputs": [],
   "source": [
    "np.mean(ma.masked_invalid(train))"
   ]
  },
  {
   "cell_type": "code",
   "execution_count": null,
   "id": "9ef05fe5",
   "metadata": {},
   "outputs": [],
   "source": [
    "np.mean(simrmses)"
   ]
  },
  {
   "cell_type": "code",
   "execution_count": null,
   "id": "a48ba0b0",
   "metadata": {},
   "outputs": [],
   "source": [
    "np.mean(simmaes)"
   ]
  },
  {
   "cell_type": "code",
   "execution_count": null,
   "id": "777a75ae",
   "metadata": {},
   "outputs": [],
   "source": [
    "np.mean(rmses)"
   ]
  },
  {
   "cell_type": "code",
   "execution_count": null,
   "id": "a8035d9d",
   "metadata": {},
   "outputs": [],
   "source": [
    "np.mean(maes)"
   ]
  },
  {
   "cell_type": "code",
   "execution_count": null,
   "id": "2b36aec2",
   "metadata": {},
   "outputs": [],
   "source": [
    "rmses"
   ]
  },
  {
   "cell_type": "code",
   "execution_count": null,
   "id": "a09dbb8a",
   "metadata": {},
   "outputs": [],
   "source": [
    "simmaes"
   ]
  },
  {
   "cell_type": "code",
   "execution_count": null,
   "id": "05300ee2",
   "metadata": {},
   "outputs": [],
   "source": []
  }
 ],
 "metadata": {
  "kernelspec": {
   "display_name": "Python 3",
   "language": "python",
   "name": "python3"
  },
  "language_info": {
   "codemirror_mode": {
    "name": "ipython",
    "version": 3
   },
   "file_extension": ".py",
   "mimetype": "text/x-python",
   "name": "python",
   "nbconvert_exporter": "python",
   "pygments_lexer": "ipython3",
   "version": "3.8.8"
  }
 },
 "nbformat": 4,
 "nbformat_minor": 5
}
