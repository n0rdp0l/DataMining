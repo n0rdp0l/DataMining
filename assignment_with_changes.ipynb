{
 "cells": [
  {
   "cell_type": "code",
   "execution_count": null,
   "metadata": {},
   "outputs": [],
   "source": [
    "import pandas as pd\n",
    "import numpy as np\n",
    "import itertools \n",
    "import matplotlib.pyplot as plt"
   ]
  },
  {
   "cell_type": "code",
   "execution_count": null,
   "metadata": {},
   "outputs": [],
   "source": [
    "users = pd.read_csv(\n",
    "    'Assignment_1/ml-1m/users.dat',\n",
    "    sep = \"::\",\n",
    "    names = ['UserID', 'Gender', 'Age', 'Occupation', 'Zip-code'],\n",
    "    encoding='latin-1',\n",
    "    engine='python',\n",
    ")\n",
    "\n",
    "users.head()"
   ]
  },
  {
   "cell_type": "code",
   "execution_count": null,
   "metadata": {},
   "outputs": [],
   "source": [
    "movies = pd.read_csv(\n",
    "    'Assignment_1/ml-1m/movies.dat',\n",
    "    sep = \"::\",\n",
    "    names = ['MovieID', 'Title', 'Genres'],\n",
    "    encoding='latin-1',\n",
    "    engine='python',\n",
    ")\n",
    "\n",
    "movies.head()"
   ]
  },
  {
   "cell_type": "code",
   "execution_count": null,
   "metadata": {
    "scrolled": true
   },
   "outputs": [],
   "source": [
    "ratings = pd.read_csv(\n",
    "    'Assignment_1/ml-1m/ratings.dat',\n",
    "    sep = \"::\",\n",
    "    names = ['UserID', 'MovieID', 'Rating', 'Timestamp'],\n",
    "    encoding='latin-1',\n",
    "    engine='python',\n",
    ")\n",
    "\n",
    "ratings.head()"
   ]
  },
  {
   "cell_type": "code",
   "execution_count": null,
   "metadata": {},
   "outputs": [],
   "source": [
    "#MATRIX FACTORIZATION WITHOUT CROSS VALIDATION\n",
    "\n",
    "learn_rate=0.005\n",
    "reg=0.05\n",
    "num_factors=10\n",
    "num_iter=75\n",
    "\n",
    "x = ratings.pivot(index='MovieID', columns='UserID', values='Rating')\n",
    "M=np.random.rand(x.shape[0],num_factors)\n",
    "M=pd.DataFrame(M, index=x.index)\n",
    "U=np.random.rand(num_factors,x.shape[1])\n",
    "U=pd.DataFrame(U, columns=x.columns)\n",
    "\n",
    "indexes=x[x.notnull()].stack().index\n",
    "iterat=1\n",
    "rmse=100\n",
    "newrmse=99\n",
    "\n",
    "while (iterat < num_iter and newrmse-rmse < 0.01 ):\n",
    "    print('iteration: ' + str(iterat))\n",
    "    iterat += 1\n",
    "    for k in indexes:\n",
    "        movie = M.loc[k[0],]\n",
    "        user = U.loc[:,k[1]]\n",
    "        x_hat = np.dot(movie,user)\n",
    "        error = x.loc[k[0],k[1]] - x_hat\n",
    "        M.loc[k[0],] = movie + learn_rate * (2*error*user - reg*movie)\n",
    "        U.loc[:,k[1]] = user + learn_rate * (2*error*movie - reg*user)\n",
    "            \n",
    "    factoriz=pd.DataFrame(np.matmul(M, U), index=x.index, columns= x.columns)\n",
    "    rmse=newrmse\n",
    "    newrmse=np.sqrt(((factoriz-x)**2).mean().mean())\n",
    "            \n",
    "    #rmse = np.sqrt(np.mean((np.matmul(M, U)-train)**2))\n",
    "mae = abs(factoriz-x).mean().mean()\n"
   ]
  },
  {
   "cell_type": "code",
   "execution_count": null,
   "metadata": {
    "scrolled": true
   },
   "outputs": [],
   "source": [
    "#MATRIX FACTORIZATION\n",
    "# google colab / runtime - cambia tipo - GPU/TPU\n",
    "x = ratings.sample(frac = 1)\n",
    "X = np.array_split(x, 5)\n",
    "learn_rate=0.005\n",
    "reg=0.05\n",
    "num_factors=10\n",
    "num_iter=75\n",
    "\n",
    "rmses = []\n",
    "maes = []\n",
    "\n",
    "for i in range(1):\n",
    "    X_test = X[i]\n",
    "    X_train = pd.concat([X[j] for j in range(5) if j!=i])\n",
    "    train=X_train.pivot(index='MovieID', columns='UserID', values='Rating')\n",
    "    test = X_test.pivot(index='MovieID', columns='UserID', values='Rating')\n",
    "    \n",
    "    M=np.random.rand(train.shape[0],num_factors)\n",
    "    M=pd.DataFrame(M, index=train.index)\n",
    "    U=np.random.rand(num_factors,train.shape[1])\n",
    "    U=pd.DataFrame(U, columns=train.columns)\n",
    "    \n",
    "    indexes=train[train.notnull()].stack().index\n",
    "    iterat=1\n",
    "    rmse=100\n",
    "    newrmse=99\n",
    "    \n",
    "    while (iterat < num_iter and newrmse-rmse < 0.01 ):\n",
    "        print('Set: ' + str(i) + ', iteration: ' + str(iterat))\n",
    "        iterat += 1\n",
    "        for k in indexes:\n",
    "            movie = M.loc[k[0],]\n",
    "            user = U.loc[:,k[1]]\n",
    "            x_hat = np.dot(movie,user)\n",
    "            error = train.loc[k[0],k[1]] - x_hat\n",
    "            M.loc[k[0],] = movie + learn_rate * (2*error*user - reg*movie)\n",
    "            U.loc[:,k[1]] = user + learn_rate * (2*error*movie - reg*user)\n",
    "            \n",
    "        factoriz=pd.DataFrame(np.matmul(M, U), index=train.index, columns= train.columns)\n",
    "        rmse=newrmse\n",
    "        newrmse=np.sqrt(((factoriz[factoriz.columns & test.columns]-test)**2).mean().mean())\n",
    "            \n",
    "    #rmse = np.sqrt(np.mean((np.matmul(M, U)-train)**2))\n",
    "    rmses += [newrmse]\n",
    "    mae = abs(factoriz[factoriz.columns & test.columns]-test).mean().mean()\n",
    "    maes += [mae]"
   ]
  },
  {
   "cell_type": "markdown",
   "metadata": {},
   "source": [
    "## PCA"
   ]
  },
  {
   "cell_type": "code",
   "execution_count": null,
   "metadata": {},
   "outputs": [],
   "source": [
    "from sklearn.decomposition import PCA"
   ]
  },
  {
   "cell_type": "code",
   "execution_count": null,
   "metadata": {},
   "outputs": [],
   "source": [
    "# Start by visualizing users\n",
    "pca = PCA(n_components=2)\n",
    "\n",
    "PCs = pca.fit_transform(U)\n"
   ]
  },
  {
   "cell_type": "code",
   "execution_count": null,
   "metadata": {},
   "outputs": [],
   "source": [
    "# Visualize users labelled by genders\n",
    "plt.figure(figsize=(10,10)) \n",
    "\n",
    "for gender in ['M', 'F']:\n",
    "    mask = users[['Gender']] == gender\n",
    "    plt.scatter(PCs[mask, 0], PCs[mask, 1], label=gender, s=25, alpha=1)\n",
    "\n",
    "plt.legend(bbox_to_anchor=(1.00, 1), loc='upper left',fontsize=20)"
   ]
  },
  {
   "cell_type": "code",
   "execution_count": null,
   "metadata": {},
   "outputs": [],
   "source": [
    "# Visualize users labelled by age\n",
    "plt.figure(figsize=(10,10)) \n",
    "ages = np.unique(users['Age'])\n",
    "\n",
    "for age in ages:\n",
    "    mask = users[['Age']] == age\n",
    "    plt.scatter(PCs[mask, 0], PCs[mask, 1], label=age, s=25, alpha=1)\n",
    "\n",
    "plt.legend(bbox_to_anchor=(1.00, 1), loc='upper left',fontsize=20)"
   ]
  },
  {
   "cell_type": "code",
   "execution_count": null,
   "metadata": {},
   "outputs": [],
   "source": [
    "# Visualize movies labelled by genre"
   ]
  },
  {
   "cell_type": "markdown",
   "metadata": {},
   "source": [
    "### UMAP"
   ]
  },
  {
   "cell_type": "code",
   "execution_count": null,
   "metadata": {},
   "outputs": [],
   "source": [
    "import umap"
   ]
  },
  {
   "cell_type": "code",
   "execution_count": null,
   "metadata": {},
   "outputs": [],
   "source": [
    "umap = umap.UMAP()\n",
    "X_u = umap.fit_transform(train_in)"
   ]
  },
  {
   "cell_type": "code",
   "execution_count": null,
   "metadata": {},
   "outputs": [],
   "source": [
    "plt.figure(figsize=(10,10))\n",
    "\n",
    "for i in range(10):\n",
    "    mask = train_out == i\n",
    "    plt.scatter(X_u[mask, 0], X_u[mask, 1], label=i, s=25, alpha=1)\n",
    "plt.legend(bbox_to_anchor=(1.00, 1), loc='upper left', fontsize=20)"
   ]
  },
  {
   "cell_type": "markdown",
   "metadata": {},
   "source": [
    "### t-SNE"
   ]
  },
  {
   "cell_type": "code",
   "execution_count": null,
   "metadata": {},
   "outputs": [],
   "source": [
    "from sklearn.manifold import TSNE"
   ]
  },
  {
   "cell_type": "code",
   "execution_count": null,
   "metadata": {},
   "outputs": [],
   "source": [
    "t_sne = TSNE(n_components=2)\n",
    "X_tsne = t_sne.fit_transform(train_in)"
   ]
  },
  {
   "cell_type": "code",
   "execution_count": null,
   "metadata": {},
   "outputs": [],
   "source": [
    "plt.figure(figsize=(10,10))\n",
    "\n",
    "for i in range(10):\n",
    "    mask = train_out == i\n",
    "    plt.scatter(X_tsne[mask, 0], X_tsne[mask, 1], label=i, s=25, alpha=1)\n",
    "plt.legend(bbox_to_anchor=(1.00, 1), loc='upper left', fontsize=20)"
   ]
  },
  {
   "cell_type": "markdown",
   "metadata": {},
   "source": [
    "## 1.3"
   ]
  },
  {
   "cell_type": "code",
   "execution_count": null,
   "metadata": {},
   "outputs": [],
   "source": [
    "Class = []\n",
    "for i in train_in:\n",
    "    Dis = []\n",
    "    for j in range(10):\n",
    "        Mean = means[j]\n",
    "        dis = np.linalg.norm(Mean-i)\n",
    "        Dis.append(dis)\n",
    "    dis_min = np.amin(Dis)\n",
    "    clas = float(np.where(Dis==dis_min)[0])\n",
    "    Class.append(clas)"
   ]
  },
  {
   "cell_type": "code",
   "execution_count": null,
   "metadata": {},
   "outputs": [],
   "source": [
    "Class = np.array(Class)\n",
    "diff = train_out-Class"
   ]
  },
  {
   "cell_type": "code",
   "execution_count": null,
   "metadata": {},
   "outputs": [],
   "source": [
    "success_rate = len(np.where(diff==0)[0])/len(train_out)\n",
    "print(success_rate)"
   ]
  },
  {
   "cell_type": "code",
   "execution_count": null,
   "metadata": {},
   "outputs": [],
   "source": [
    "test_in = pd.read_csv(\"test_in.csv\")\n",
    "test_out = pd.read_csv(\"test_out.csv\")\n",
    "test_in = np.array(test_in)\n",
    "test_out = np.array(test_out)"
   ]
  },
  {
   "cell_type": "code",
   "execution_count": null,
   "metadata": {},
   "outputs": [],
   "source": [
    "test_out = np.squeeze(test_out, axis=1)"
   ]
  },
  {
   "cell_type": "code",
   "execution_count": null,
   "metadata": {},
   "outputs": [],
   "source": [
    "Class_test = []\n",
    "for i in test_in:\n",
    "    Dis = []\n",
    "    for j in range(10):\n",
    "        Mean = means[j]\n",
    "        dis = np.linalg.norm(Mean-i)\n",
    "        Dis.append(dis)\n",
    "    dis_min = np.amin(Dis)\n",
    "    clas = float(np.where(Dis==dis_min)[0])\n",
    "    Class_test.append(clas)"
   ]
  },
  {
   "cell_type": "code",
   "execution_count": null,
   "metadata": {},
   "outputs": [],
   "source": [
    "Class_test = np.array(Class_test)\n",
    "diff_test = test_out - Class_test"
   ]
  },
  {
   "cell_type": "code",
   "execution_count": null,
   "metadata": {},
   "outputs": [],
   "source": [
    "success_rate_test = len(np.where(diff_test==0)[0])/len(test_out)\n",
    "print(success_rate_test)"
   ]
  },
  {
   "cell_type": "markdown",
   "metadata": {},
   "source": [
    "## 1.4"
   ]
  },
  {
   "cell_type": "code",
   "execution_count": null,
   "metadata": {},
   "outputs": [],
   "source": [
    "from sklearn.neighbors import KNeighborsClassifier"
   ]
  },
  {
   "cell_type": "code",
   "execution_count": null,
   "metadata": {},
   "outputs": [],
   "source": [
    "k = len(train_in)/10"
   ]
  },
  {
   "cell_type": "code",
   "execution_count": null,
   "metadata": {},
   "outputs": [],
   "source": [
    "knn = KNeighborsClassifier(n_neighbors=12)"
   ]
  },
  {
   "cell_type": "code",
   "execution_count": null,
   "metadata": {},
   "outputs": [],
   "source": [
    "knn.fit(train_in, train_out)\n",
    "knn_out = knn.predict(test_in)"
   ]
  },
  {
   "cell_type": "code",
   "execution_count": null,
   "metadata": {},
   "outputs": [],
   "source": [
    "diff_knn = knn_out - test_out\n",
    "success_rate_test = len(np.where(diff_knn==0)[0])/len(test_out)\n",
    "print(success_rate_test)"
   ]
  },
  {
   "cell_type": "code",
   "execution_count": null,
   "metadata": {},
   "outputs": [],
   "source": [
    "from sklearn.metrics import confusion_matrix\n",
    "conf_m_knn = confusion_matrix(test_out, knn_out)"
   ]
  },
  {
   "cell_type": "code",
   "execution_count": null,
   "metadata": {},
   "outputs": [],
   "source": [
    "conf_m_simp = confusion_matrix(test_out, Class_test)"
   ]
  },
  {
   "cell_type": "code",
   "execution_count": null,
   "metadata": {},
   "outputs": [],
   "source": [
    "print(conf_m_knn)\n",
    "print(conf_m_simp)"
   ]
  }
 ],
 "metadata": {
  "kernelspec": {
   "display_name": "Python 3",
   "language": "python",
   "name": "python3"
  },
  "language_info": {
   "codemirror_mode": {
    "name": "ipython",
    "version": 3
   },
   "file_extension": ".py",
   "mimetype": "text/x-python",
   "name": "python",
   "nbconvert_exporter": "python",
   "pygments_lexer": "ipython3",
   "version": "3.7.3"
  },
  "vscode": {
   "interpreter": {
    "hash": "16a0f2890d1def7920885bcd7e8b768c0e805614be8083e52d1bdef4cb90280f"
   }
  }
 },
 "nbformat": 4,
 "nbformat_minor": 2
}
