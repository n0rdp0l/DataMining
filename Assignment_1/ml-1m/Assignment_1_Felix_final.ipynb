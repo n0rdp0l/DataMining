{
 "cells": [
  {
   "cell_type": "code",
   "execution_count": 1,
   "id": "28931c69",
   "metadata": {},
   "outputs": [],
   "source": [
    "import pandas as pd\n",
    "from sklearn.model_selection import KFold\n",
    "import random\n",
    "random.seed(3)"
   ]
  },
  {
   "cell_type": "code",
   "execution_count": 2,
   "id": "7df3eea8",
   "metadata": {},
   "outputs": [
    {
     "data": {
      "text/html": [
       "<div>\n",
       "<style scoped>\n",
       "    .dataframe tbody tr th:only-of-type {\n",
       "        vertical-align: middle;\n",
       "    }\n",
       "\n",
       "    .dataframe tbody tr th {\n",
       "        vertical-align: top;\n",
       "    }\n",
       "\n",
       "    .dataframe thead th {\n",
       "        text-align: right;\n",
       "    }\n",
       "</style>\n",
       "<table border=\"1\" class=\"dataframe\">\n",
       "  <thead>\n",
       "    <tr style=\"text-align: right;\">\n",
       "      <th></th>\n",
       "      <th>MovieID</th>\n",
       "      <th>Title</th>\n",
       "      <th>Genres</th>\n",
       "    </tr>\n",
       "  </thead>\n",
       "  <tbody>\n",
       "    <tr>\n",
       "      <th>0</th>\n",
       "      <td>1</td>\n",
       "      <td>Toy Story (1995)</td>\n",
       "      <td>Animation|Children's|Comedy</td>\n",
       "    </tr>\n",
       "    <tr>\n",
       "      <th>1</th>\n",
       "      <td>2</td>\n",
       "      <td>Jumanji (1995)</td>\n",
       "      <td>Adventure|Children's|Fantasy</td>\n",
       "    </tr>\n",
       "    <tr>\n",
       "      <th>2</th>\n",
       "      <td>3</td>\n",
       "      <td>Grumpier Old Men (1995)</td>\n",
       "      <td>Comedy|Romance</td>\n",
       "    </tr>\n",
       "    <tr>\n",
       "      <th>3</th>\n",
       "      <td>4</td>\n",
       "      <td>Waiting to Exhale (1995)</td>\n",
       "      <td>Comedy|Drama</td>\n",
       "    </tr>\n",
       "    <tr>\n",
       "      <th>4</th>\n",
       "      <td>5</td>\n",
       "      <td>Father of the Bride Part II (1995)</td>\n",
       "      <td>Comedy</td>\n",
       "    </tr>\n",
       "  </tbody>\n",
       "</table>\n",
       "</div>"
      ],
      "text/plain": [
       "   MovieID                               Title                        Genres\n",
       "0        1                    Toy Story (1995)   Animation|Children's|Comedy\n",
       "1        2                      Jumanji (1995)  Adventure|Children's|Fantasy\n",
       "2        3             Grumpier Old Men (1995)                Comedy|Romance\n",
       "3        4            Waiting to Exhale (1995)                  Comedy|Drama\n",
       "4        5  Father of the Bride Part II (1995)                        Comedy"
      ]
     },
     "metadata": {},
     "output_type": "display_data"
    },
    {
     "data": {
      "text/html": [
       "<div>\n",
       "<style scoped>\n",
       "    .dataframe tbody tr th:only-of-type {\n",
       "        vertical-align: middle;\n",
       "    }\n",
       "\n",
       "    .dataframe tbody tr th {\n",
       "        vertical-align: top;\n",
       "    }\n",
       "\n",
       "    .dataframe thead th {\n",
       "        text-align: right;\n",
       "    }\n",
       "</style>\n",
       "<table border=\"1\" class=\"dataframe\">\n",
       "  <thead>\n",
       "    <tr style=\"text-align: right;\">\n",
       "      <th></th>\n",
       "      <th>UserID</th>\n",
       "      <th>Gender</th>\n",
       "      <th>Age</th>\n",
       "      <th>Occupation</th>\n",
       "      <th>Zip-code</th>\n",
       "    </tr>\n",
       "  </thead>\n",
       "  <tbody>\n",
       "    <tr>\n",
       "      <th>0</th>\n",
       "      <td>1</td>\n",
       "      <td>F</td>\n",
       "      <td>1</td>\n",
       "      <td>10</td>\n",
       "      <td>48067</td>\n",
       "    </tr>\n",
       "    <tr>\n",
       "      <th>1</th>\n",
       "      <td>2</td>\n",
       "      <td>M</td>\n",
       "      <td>56</td>\n",
       "      <td>16</td>\n",
       "      <td>70072</td>\n",
       "    </tr>\n",
       "    <tr>\n",
       "      <th>2</th>\n",
       "      <td>3</td>\n",
       "      <td>M</td>\n",
       "      <td>25</td>\n",
       "      <td>15</td>\n",
       "      <td>55117</td>\n",
       "    </tr>\n",
       "    <tr>\n",
       "      <th>3</th>\n",
       "      <td>4</td>\n",
       "      <td>M</td>\n",
       "      <td>45</td>\n",
       "      <td>7</td>\n",
       "      <td>02460</td>\n",
       "    </tr>\n",
       "    <tr>\n",
       "      <th>4</th>\n",
       "      <td>5</td>\n",
       "      <td>M</td>\n",
       "      <td>25</td>\n",
       "      <td>20</td>\n",
       "      <td>55455</td>\n",
       "    </tr>\n",
       "  </tbody>\n",
       "</table>\n",
       "</div>"
      ],
      "text/plain": [
       "   UserID Gender  Age  Occupation Zip-code\n",
       "0       1      F    1          10    48067\n",
       "1       2      M   56          16    70072\n",
       "2       3      M   25          15    55117\n",
       "3       4      M   45           7    02460\n",
       "4       5      M   25          20    55455"
      ]
     },
     "metadata": {},
     "output_type": "display_data"
    },
    {
     "data": {
      "text/html": [
       "<div>\n",
       "<style scoped>\n",
       "    .dataframe tbody tr th:only-of-type {\n",
       "        vertical-align: middle;\n",
       "    }\n",
       "\n",
       "    .dataframe tbody tr th {\n",
       "        vertical-align: top;\n",
       "    }\n",
       "\n",
       "    .dataframe thead th {\n",
       "        text-align: right;\n",
       "    }\n",
       "</style>\n",
       "<table border=\"1\" class=\"dataframe\">\n",
       "  <thead>\n",
       "    <tr style=\"text-align: right;\">\n",
       "      <th></th>\n",
       "      <th>UserID</th>\n",
       "      <th>MovieID</th>\n",
       "      <th>Rating</th>\n",
       "      <th>Timestamp</th>\n",
       "    </tr>\n",
       "  </thead>\n",
       "  <tbody>\n",
       "    <tr>\n",
       "      <th>0</th>\n",
       "      <td>1</td>\n",
       "      <td>1193</td>\n",
       "      <td>5</td>\n",
       "      <td>978300760</td>\n",
       "    </tr>\n",
       "    <tr>\n",
       "      <th>1</th>\n",
       "      <td>1</td>\n",
       "      <td>661</td>\n",
       "      <td>3</td>\n",
       "      <td>978302109</td>\n",
       "    </tr>\n",
       "    <tr>\n",
       "      <th>2</th>\n",
       "      <td>1</td>\n",
       "      <td>914</td>\n",
       "      <td>3</td>\n",
       "      <td>978301968</td>\n",
       "    </tr>\n",
       "    <tr>\n",
       "      <th>3</th>\n",
       "      <td>1</td>\n",
       "      <td>3408</td>\n",
       "      <td>4</td>\n",
       "      <td>978300275</td>\n",
       "    </tr>\n",
       "    <tr>\n",
       "      <th>4</th>\n",
       "      <td>1</td>\n",
       "      <td>2355</td>\n",
       "      <td>5</td>\n",
       "      <td>978824291</td>\n",
       "    </tr>\n",
       "  </tbody>\n",
       "</table>\n",
       "</div>"
      ],
      "text/plain": [
       "   UserID  MovieID  Rating  Timestamp\n",
       "0       1     1193       5  978300760\n",
       "1       1      661       3  978302109\n",
       "2       1      914       3  978301968\n",
       "3       1     3408       4  978300275\n",
       "4       1     2355       5  978824291"
      ]
     },
     "execution_count": 2,
     "metadata": {},
     "output_type": "execute_result"
    }
   ],
   "source": [
    "# loading data\n",
    "movies = pd.read_csv(\n",
    "    'movies.dat',\n",
    "    sep = \"::\",\n",
    "    names = ['MovieID', 'Title', 'Genres'],\n",
    "    encoding='latin-1',\n",
    "    engine='python',\n",
    ")\n",
    "\n",
    "ratings = pd.read_csv(\n",
    "    'ratings.dat',\n",
    "    sep = \"::\",\n",
    "    names = ['UserID','MovieID','Rating','Timestamp'],\n",
    "    encoding='latin-1',\n",
    "    engine='python',\n",
    ")\n",
    "\n",
    "users = pd.read_csv(\n",
    "    'users.dat',\n",
    "    sep = \"::\",\n",
    "    names = ['UserID', 'Gender', 'Age','Occupation','Zip-code'],\n",
    "    encoding='latin-1',\n",
    "    engine='python',\n",
    ")\n",
    "display(movies.head())\n",
    "display(users.head())\n",
    "ratings.head()"
   ]
  },
  {
   "cell_type": "markdown",
   "id": "853df043",
   "metadata": {},
   "source": [
    "## 1. Recommender System"
   ]
  },
  {
   "cell_type": "markdown",
   "id": "538999da",
   "metadata": {},
   "source": [
    "## 1.2 UV Matrix Decomposition"
   ]
  },
  {
   "cell_type": "markdown",
   "id": "9b117084",
   "metadata": {},
   "source": [
    "Notes: To increase our chances of finding the global minimum, we need to pick many dif- ferent starting points, that is, different choices of the initial matrices U and V . However, there is never a guarantee that our best local minimum will be the global minimum."
   ]
  },
  {
   "cell_type": "code",
   "execution_count": 3,
   "id": "ee2ea5a2",
   "metadata": {},
   "outputs": [],
   "source": [
    "import numpy as np"
   ]
  },
  {
   "cell_type": "code",
   "execution_count": 4,
   "id": "3642d1aa",
   "metadata": {},
   "outputs": [],
   "source": [
    "class Matrix_Decomposition:\n",
    "    def __init__(self, matrix, dimensions = 5, iterations = 1):\n",
    "        self.matrix = matrix\n",
    "        self.n = self.matrix.shape[0]\n",
    "        self.m = self.matrix.shape[1]\n",
    "        self.d = dimensions\n",
    "        self.normalized = self.matrix - np.nanmean(self.matrix,axis=1, keepdims=True)\n",
    "        # self.normalized = self.matrix - np.nanmean(self.matrix,axis=0, keepdims=True)\n",
    "        self.U = np.random.rand(self.n,self.d) + np.sqrt(np.nanmean(self.matrix)/self.d)\n",
    "        self.V = np.random.rand(self.d,self.m) + np.sqrt(np.nanmean(self.matrix)/self.d)\n",
    "        self.iter = iterations\n",
    "        self.transformed_UV = np.dot(self.U, self.V)+np.nanmean(self.matrix,axis=0, keepdims=True)+np.nanmean(self.matrix,axis=1, keepdims=True)\n",
    "            \n",
    "    def rmse_new(self):\n",
    "        UV = np.dot(self.U,self.V)\n",
    "        error = np.nanmean((self.normalized - UV)**2)\n",
    "        return error\n",
    "\n",
    "\n",
    "    def UV(self):\n",
    "        err = [self.rmse_new()]\n",
    "        for i in range(self.iter):\n",
    "            # decompose User matrix\n",
    "            for r in range(0,self.n):\n",
    "                for s in range(0,self.d):\n",
    "                    m = np.array(self.normalized[r,:])\n",
    "                    v = np.array(self.V[s,:])\n",
    "                    u = np.array(self.U[r,:])\n",
    "                    index_no_s = np.array(range(self.d)) != s\n",
    "                    self.U[r,s]=np.nansum(v*(m-np.dot(u[index_no_s],self.V[index_no_s,:])))/np.sum(v**2)\n",
    "            \n",
    "            # decompose item matrix\n",
    "            for s in range(0,self.m):\n",
    "                for r in range(0,self.d):\n",
    "                    m = np.array(self.normalized[:,s])\n",
    "                    u = np.array(self.U[:,r])\n",
    "                    v = np.array(self.V[:,s])\n",
    "                    index_no_r = np.array(range(self.d)) != r\n",
    "                    self.V[r,s]=np.nansum(u * (m-np.dot(self.U[:,index_no_r],v[index_no_r])))/np.sum(u**2)\n",
    "                    \n",
    "            if err[i] - self.rmse_new() < 0.000001 and i > self.iter/2:\n",
    "                break\n",
    "            \n",
    "            else:\n",
    "                print('Iteration: ' + str(i+1) + ', Error: ' + str(self.rmse_new()))\n",
    "                err.append(self.rmse_new())\n",
    "            \n",
    "        return self.U, self.V, err"
   ]
  },
  {
   "cell_type": "code",
   "execution_count": 5,
   "id": "e3e6664f",
   "metadata": {},
   "outputs": [],
   "source": [
    "M = ratings.pivot(index = 'UserID', columns ='MovieID', values = 'Rating').to_numpy()"
   ]
  },
  {
   "cell_type": "code",
   "execution_count": 7,
   "id": "97e58ec0",
   "metadata": {},
   "outputs": [
    {
     "name": "stderr",
     "output_type": "stream",
     "text": [
      "C:\\Users\\felix.wente\\AppData\\Local\\Temp\\ipykernel_12228\\4176684026.py:9: RuntimeWarning: divide by zero encountered in double_scalars\n",
      "  self.U = np.random.rand(self.n,self.d) + np.sqrt(np.nanmean(self.matrix)/self.d)\n",
      "C:\\Users\\felix.wente\\AppData\\Local\\Temp\\ipykernel_12228\\4176684026.py:10: RuntimeWarning: divide by zero encountered in double_scalars\n",
      "  self.V = np.random.rand(self.d,self.m) + np.sqrt(np.nanmean(self.matrix)/self.d)\n"
     ]
    }
   ],
   "source": [
    "models = dict()\n",
    "for i in range (10):\n",
    "    models[i] = Matrix_Decomposition(M, iterations = 5, dimensions = i)"
   ]
  },
  {
   "cell_type": "code",
   "execution_count": 10,
   "id": "dc775c28",
   "metadata": {},
   "outputs": [
    {
     "name": "stdout",
     "output_type": "stream",
     "text": [
      "Dimension: 1\n",
      "Iteration: 0, Error: 0.9500626181121072\n",
      "Iteration: 1, Error: 0.9500626181121072\n",
      "Iteration: 2, Error: 0.9500626181121072\n",
      "Dimension: 2\n",
      "Iteration: 0, Error: 0.8938777508931209\n"
     ]
    },
    {
     "ename": "KeyboardInterrupt",
     "evalue": "",
     "output_type": "error",
     "traceback": [
      "\u001b[1;31m---------------------------------------------------------------------------\u001b[0m",
      "\u001b[1;31mKeyboardInterrupt\u001b[0m                         Traceback (most recent call last)",
      "\u001b[1;32mc:\\Users\\felix.wente\\Documents\\DataMining\\Assignment_1\\ml-1m\\Assignment_1_Felix_final.ipynb Cell 10\u001b[0m in \u001b[0;36m<cell line: 1>\u001b[1;34m()\u001b[0m\n\u001b[0;32m      <a href='vscode-notebook-cell://ssh-remote%2Bn0rdp0l/c%3A/Users/felix.wente/Documents/DataMining/Assignment_1/ml-1m/Assignment_1_Felix_final.ipynb#X16sdnNjb2RlLXJlbW90ZQ%3D%3D?line=0'>1</a>\u001b[0m \u001b[39mfor\u001b[39;00m i \u001b[39min\u001b[39;00m \u001b[39mrange\u001b[39m (\u001b[39m10\u001b[39m):\n\u001b[0;32m      <a href='vscode-notebook-cell://ssh-remote%2Bn0rdp0l/c%3A/Users/felix.wente/Documents/DataMining/Assignment_1/ml-1m/Assignment_1_Felix_final.ipynb#X16sdnNjb2RlLXJlbW90ZQ%3D%3D?line=1'>2</a>\u001b[0m     \u001b[39mprint\u001b[39m(\u001b[39m\"\u001b[39m\u001b[39mDimension: \u001b[39m\u001b[39m\"\u001b[39m \u001b[39m+\u001b[39m \u001b[39mstr\u001b[39m(i\u001b[39m+\u001b[39m\u001b[39m1\u001b[39m))\n\u001b[1;32m----> <a href='vscode-notebook-cell://ssh-remote%2Bn0rdp0l/c%3A/Users/felix.wente/Documents/DataMining/Assignment_1/ml-1m/Assignment_1_Felix_final.ipynb#X16sdnNjb2RlLXJlbW90ZQ%3D%3D?line=2'>3</a>\u001b[0m     models[i]\u001b[39m.\u001b[39;49mUV()\n",
      "\u001b[1;32mc:\\Users\\felix.wente\\Documents\\DataMining\\Assignment_1\\ml-1m\\Assignment_1_Felix_final.ipynb Cell 10\u001b[0m in \u001b[0;36mMatrix_Decomposition.UV\u001b[1;34m(self)\u001b[0m\n\u001b[0;32m     <a href='vscode-notebook-cell://ssh-remote%2Bn0rdp0l/c%3A/Users/felix.wente/Documents/DataMining/Assignment_1/ml-1m/Assignment_1_Felix_final.ipynb#X16sdnNjb2RlLXJlbW90ZQ%3D%3D?line=36'>37</a>\u001b[0m         v \u001b[39m=\u001b[39m np\u001b[39m.\u001b[39marray(\u001b[39mself\u001b[39m\u001b[39m.\u001b[39mV[:,s])\n\u001b[0;32m     <a href='vscode-notebook-cell://ssh-remote%2Bn0rdp0l/c%3A/Users/felix.wente/Documents/DataMining/Assignment_1/ml-1m/Assignment_1_Felix_final.ipynb#X16sdnNjb2RlLXJlbW90ZQ%3D%3D?line=37'>38</a>\u001b[0m         index_no_r \u001b[39m=\u001b[39m np\u001b[39m.\u001b[39marray(\u001b[39mrange\u001b[39m(\u001b[39mself\u001b[39m\u001b[39m.\u001b[39md)) \u001b[39m!=\u001b[39m r\n\u001b[1;32m---> <a href='vscode-notebook-cell://ssh-remote%2Bn0rdp0l/c%3A/Users/felix.wente/Documents/DataMining/Assignment_1/ml-1m/Assignment_1_Felix_final.ipynb#X16sdnNjb2RlLXJlbW90ZQ%3D%3D?line=38'>39</a>\u001b[0m         \u001b[39mself\u001b[39m\u001b[39m.\u001b[39mV[r,s]\u001b[39m=\u001b[39mnp\u001b[39m.\u001b[39;49mnansum(u \u001b[39m*\u001b[39;49m (m\u001b[39m-\u001b[39;49mnp\u001b[39m.\u001b[39;49mdot(\u001b[39mself\u001b[39;49m\u001b[39m.\u001b[39;49mU[:,index_no_r],v[index_no_r])))\u001b[39m/\u001b[39mnp\u001b[39m.\u001b[39msum(u\u001b[39m*\u001b[39m\u001b[39m*\u001b[39m\u001b[39m2\u001b[39m)\n\u001b[0;32m     <a href='vscode-notebook-cell://ssh-remote%2Bn0rdp0l/c%3A/Users/felix.wente/Documents/DataMining/Assignment_1/ml-1m/Assignment_1_Felix_final.ipynb#X16sdnNjb2RlLXJlbW90ZQ%3D%3D?line=40'>41</a>\u001b[0m \u001b[39mif\u001b[39;00m err[i] \u001b[39m-\u001b[39m \u001b[39mself\u001b[39m\u001b[39m.\u001b[39mrmse_new() \u001b[39m<\u001b[39m \u001b[39m0.000001\u001b[39m \u001b[39mand\u001b[39;00m i \u001b[39m>\u001b[39m \u001b[39mself\u001b[39m\u001b[39m.\u001b[39miter\u001b[39m/\u001b[39m\u001b[39m2\u001b[39m:\n\u001b[0;32m     <a href='vscode-notebook-cell://ssh-remote%2Bn0rdp0l/c%3A/Users/felix.wente/Documents/DataMining/Assignment_1/ml-1m/Assignment_1_Felix_final.ipynb#X16sdnNjb2RlLXJlbW90ZQ%3D%3D?line=41'>42</a>\u001b[0m     \u001b[39mbreak\u001b[39;00m\n",
      "File \u001b[1;32m<__array_function__ internals>:5\u001b[0m, in \u001b[0;36mnansum\u001b[1;34m(*args, **kwargs)\u001b[0m\n",
      "File \u001b[1;32mc:\\Users\\felix.wente\\anaconda3\\lib\\site-packages\\numpy\\lib\\nanfunctions.py:647\u001b[0m, in \u001b[0;36mnansum\u001b[1;34m(a, axis, dtype, out, keepdims)\u001b[0m\n\u001b[0;32m    557\u001b[0m \u001b[39m@array_function_dispatch\u001b[39m(_nansum_dispatcher)\n\u001b[0;32m    558\u001b[0m \u001b[39mdef\u001b[39;00m \u001b[39mnansum\u001b[39m(a, axis\u001b[39m=\u001b[39m\u001b[39mNone\u001b[39;00m, dtype\u001b[39m=\u001b[39m\u001b[39mNone\u001b[39;00m, out\u001b[39m=\u001b[39m\u001b[39mNone\u001b[39;00m, keepdims\u001b[39m=\u001b[39mnp\u001b[39m.\u001b[39m_NoValue):\n\u001b[0;32m    559\u001b[0m     \u001b[39m\"\"\"\u001b[39;00m\n\u001b[0;32m    560\u001b[0m \u001b[39m    Return the sum of array elements over a given axis treating Not a\u001b[39;00m\n\u001b[0;32m    561\u001b[0m \u001b[39m    Numbers (NaNs) as zero.\u001b[39;00m\n\u001b[1;32m   (...)\u001b[0m\n\u001b[0;32m    645\u001b[0m \n\u001b[0;32m    646\u001b[0m \u001b[39m    \"\"\"\u001b[39;00m\n\u001b[1;32m--> 647\u001b[0m     a, mask \u001b[39m=\u001b[39m _replace_nan(a, \u001b[39m0\u001b[39;49m)\n\u001b[0;32m    648\u001b[0m     \u001b[39mreturn\u001b[39;00m np\u001b[39m.\u001b[39msum(a, axis\u001b[39m=\u001b[39maxis, dtype\u001b[39m=\u001b[39mdtype, out\u001b[39m=\u001b[39mout, keepdims\u001b[39m=\u001b[39mkeepdims)\n",
      "File \u001b[1;32mc:\\Users\\felix.wente\\anaconda3\\lib\\site-packages\\numpy\\lib\\nanfunctions.py:107\u001b[0m, in \u001b[0;36m_replace_nan\u001b[1;34m(a, val)\u001b[0m\n\u001b[0;32m    104\u001b[0m     mask \u001b[39m=\u001b[39m \u001b[39mNone\u001b[39;00m\n\u001b[0;32m    106\u001b[0m \u001b[39mif\u001b[39;00m mask \u001b[39mis\u001b[39;00m \u001b[39mnot\u001b[39;00m \u001b[39mNone\u001b[39;00m:\n\u001b[1;32m--> 107\u001b[0m     a \u001b[39m=\u001b[39m np\u001b[39m.\u001b[39;49marray(a, subok\u001b[39m=\u001b[39;49m\u001b[39mTrue\u001b[39;49;00m, copy\u001b[39m=\u001b[39;49m\u001b[39mTrue\u001b[39;49;00m)\n\u001b[0;32m    108\u001b[0m     np\u001b[39m.\u001b[39mcopyto(a, val, where\u001b[39m=\u001b[39mmask)\n\u001b[0;32m    110\u001b[0m \u001b[39mreturn\u001b[39;00m a, mask\n",
      "\u001b[1;31mKeyboardInterrupt\u001b[0m: "
     ]
    }
   ],
   "source": [
    "for i in range (10):\n",
    "    print(\"Dimension: \" + str(i+1))\n",
    "    models[i].UV()"
   ]
  },
  {
   "cell_type": "code",
   "execution_count": 26,
   "id": "c4f3e7ee",
   "metadata": {
    "scrolled": true
   },
   "outputs": [
    {
     "name": "stderr",
     "output_type": "stream",
     "text": [
      "C:\\Users\\felix.wente\\AppData\\Local\\Temp\\ipykernel_21320\\4176684026.py:8: RuntimeWarning: Mean of empty slice\n",
      "  self.normalized = self.matrix - np.nanmean(self.matrix,axis=0, keepdims=True)\n",
      "C:\\Users\\felix.wente\\AppData\\Local\\Temp\\ipykernel_21320\\4176684026.py:12: RuntimeWarning: Mean of empty slice\n",
      "  self.transformed_UV = np.dot(self.U, self.V)+np.nanmean(self.matrix,axis=0, keepdims=True)+np.nanmean(self.matrix,axis=1, keepdims=True)\n"
     ]
    },
    {
     "name": "stdout",
     "output_type": "stream",
     "text": [
      "Iteration: 0, Error: 0.9465258347557423\n",
      "Iteration: 1, Error: 0.8590435014678219\n"
     ]
    },
    {
     "ename": "KeyboardInterrupt",
     "evalue": "",
     "output_type": "error",
     "traceback": [
      "\u001b[1;31m---------------------------------------------------------------------------\u001b[0m",
      "\u001b[1;31mKeyboardInterrupt\u001b[0m                         Traceback (most recent call last)",
      "\u001b[1;32mc:\\Users\\felix.wente\\Documents\\DataMining\\Assignment_1\\ml-1m\\Assignment_1_Felix_final.ipynb Cell 9\u001b[0m in \u001b[0;36m<cell line: 8>\u001b[1;34m()\u001b[0m\n\u001b[0;32m     <a href='vscode-notebook-cell://ssh-remote%2Bn0rdp0l/c%3A/Users/felix.wente/Documents/DataMining/Assignment_1/ml-1m/Assignment_1_Felix_final.ipynb#X25sdnNjb2RlLXJlbW90ZQ%3D%3D?line=23'>24</a>\u001b[0m M_test \u001b[39m=\u001b[39m Utility_test\u001b[39m.\u001b[39mto_numpy()\n\u001b[0;32m     <a href='vscode-notebook-cell://ssh-remote%2Bn0rdp0l/c%3A/Users/felix.wente/Documents/DataMining/Assignment_1/ml-1m/Assignment_1_Felix_final.ipynb#X25sdnNjb2RlLXJlbW90ZQ%3D%3D?line=24'>25</a>\u001b[0m model_matrix \u001b[39m=\u001b[39m Matrix_Decomposition(M, iterations \u001b[39m=\u001b[39m \u001b[39m90\u001b[39m)\n\u001b[1;32m---> <a href='vscode-notebook-cell://ssh-remote%2Bn0rdp0l/c%3A/Users/felix.wente/Documents/DataMining/Assignment_1/ml-1m/Assignment_1_Felix_final.ipynb#X25sdnNjb2RlLXJlbW90ZQ%3D%3D?line=25'>26</a>\u001b[0m uv \u001b[39m=\u001b[39m model_matrix\u001b[39m.\u001b[39;49mUV()\n\u001b[0;32m     <a href='vscode-notebook-cell://ssh-remote%2Bn0rdp0l/c%3A/Users/felix.wente/Documents/DataMining/Assignment_1/ml-1m/Assignment_1_Felix_final.ipynb#X25sdnNjb2RlLXJlbW90ZQ%3D%3D?line=26'>27</a>\u001b[0m r\u001b[39m=\u001b[39mnp\u001b[39m.\u001b[39mdot(model_matrix\u001b[39m.\u001b[39mU, model_matrix\u001b[39m.\u001b[39mV)\u001b[39m+\u001b[39mnp\u001b[39m.\u001b[39mnanmean(M,axis\u001b[39m=\u001b[39m\u001b[39m0\u001b[39m, keepdims\u001b[39m=\u001b[39m\u001b[39mTrue\u001b[39;00m)\u001b[39m+\u001b[39mnp\u001b[39m.\u001b[39mnanmean(M,axis\u001b[39m=\u001b[39m\u001b[39m1\u001b[39m, keepdims\u001b[39m=\u001b[39m\u001b[39mTrue\u001b[39;00m)\n\u001b[0;32m     <a href='vscode-notebook-cell://ssh-remote%2Bn0rdp0l/c%3A/Users/felix.wente/Documents/DataMining/Assignment_1/ml-1m/Assignment_1_Felix_final.ipynb#X25sdnNjb2RlLXJlbW90ZQ%3D%3D?line=27'>28</a>\u001b[0m rmse \u001b[39m=\u001b[39m np\u001b[39m.\u001b[39msqrt(np\u001b[39m.\u001b[39mnanmean((r \u001b[39m-\u001b[39m M_test)\u001b[39m*\u001b[39m\u001b[39m*\u001b[39m\u001b[39m2\u001b[39m))\n",
      "\u001b[1;32mc:\\Users\\felix.wente\\Documents\\DataMining\\Assignment_1\\ml-1m\\Assignment_1_Felix_final.ipynb Cell 9\u001b[0m in \u001b[0;36mMatrix_Decomposition.UV\u001b[1;34m(self)\u001b[0m\n\u001b[0;32m     <a href='vscode-notebook-cell://ssh-remote%2Bn0rdp0l/c%3A/Users/felix.wente/Documents/DataMining/Assignment_1/ml-1m/Assignment_1_Felix_final.ipynb#X25sdnNjb2RlLXJlbW90ZQ%3D%3D?line=36'>37</a>\u001b[0m         v \u001b[39m=\u001b[39m np\u001b[39m.\u001b[39marray(\u001b[39mself\u001b[39m\u001b[39m.\u001b[39mV[:,s])\n\u001b[0;32m     <a href='vscode-notebook-cell://ssh-remote%2Bn0rdp0l/c%3A/Users/felix.wente/Documents/DataMining/Assignment_1/ml-1m/Assignment_1_Felix_final.ipynb#X25sdnNjb2RlLXJlbW90ZQ%3D%3D?line=37'>38</a>\u001b[0m         index_no_r \u001b[39m=\u001b[39m np\u001b[39m.\u001b[39marray(\u001b[39mrange\u001b[39m(\u001b[39mself\u001b[39m\u001b[39m.\u001b[39md)) \u001b[39m!=\u001b[39m r\n\u001b[1;32m---> <a href='vscode-notebook-cell://ssh-remote%2Bn0rdp0l/c%3A/Users/felix.wente/Documents/DataMining/Assignment_1/ml-1m/Assignment_1_Felix_final.ipynb#X25sdnNjb2RlLXJlbW90ZQ%3D%3D?line=38'>39</a>\u001b[0m         \u001b[39mself\u001b[39m\u001b[39m.\u001b[39mV[r,s]\u001b[39m=\u001b[39mnp\u001b[39m.\u001b[39mnansum(u \u001b[39m*\u001b[39m (m\u001b[39m-\u001b[39;49mnp\u001b[39m.\u001b[39;49mdot(\u001b[39mself\u001b[39;49m\u001b[39m.\u001b[39;49mU[:,index_no_r],v[index_no_r])))\u001b[39m/\u001b[39mnp\u001b[39m.\u001b[39msum(u\u001b[39m*\u001b[39m\u001b[39m*\u001b[39m\u001b[39m2\u001b[39m)\n\u001b[0;32m     <a href='vscode-notebook-cell://ssh-remote%2Bn0rdp0l/c%3A/Users/felix.wente/Documents/DataMining/Assignment_1/ml-1m/Assignment_1_Felix_final.ipynb#X25sdnNjb2RlLXJlbW90ZQ%3D%3D?line=40'>41</a>\u001b[0m \u001b[39mif\u001b[39;00m err[i] \u001b[39m-\u001b[39m \u001b[39mself\u001b[39m\u001b[39m.\u001b[39mrmse_new() \u001b[39m<\u001b[39m \u001b[39m0.000001\u001b[39m \u001b[39mand\u001b[39;00m i \u001b[39m>\u001b[39m \u001b[39mself\u001b[39m\u001b[39m.\u001b[39miter\u001b[39m/\u001b[39m\u001b[39m2\u001b[39m:\n\u001b[0;32m     <a href='vscode-notebook-cell://ssh-remote%2Bn0rdp0l/c%3A/Users/felix.wente/Documents/DataMining/Assignment_1/ml-1m/Assignment_1_Felix_final.ipynb#X25sdnNjb2RlLXJlbW90ZQ%3D%3D?line=41'>42</a>\u001b[0m     \u001b[39mbreak\u001b[39;00m\n",
      "\u001b[1;31mKeyboardInterrupt\u001b[0m: "
     ]
    }
   ],
   "source": [
    "## Prediction of ratings\n",
    "x = ratings.sample(frac = 1)\n",
    "X = np.array_split(x, 5)\n",
    "\n",
    "rmses = []\n",
    "maes = []\n",
    "\n",
    "for i in range(5):\n",
    "    # Find train and test utility matrices\n",
    "    X_test = X[i]\n",
    "    X_train = pd.concat([X[j] for j in range(5) if j!=i])\n",
    "    Y_test = X_test.copy()\n",
    "    Y_train = X_train.copy()\n",
    "    Y_train[['Rating']] = np.nan\n",
    "    X_test = pd.concat([X_test,Y_train])\n",
    "    Y_test[['Rating']] = np.nan\n",
    "    X_train = pd.concat([X_train, Y_test])\n",
    "    \n",
    "    # Perform prediction\n",
    "    Utility_DF = X_train.pivot(index = 'UserID', columns ='MovieID', values = 'Rating')\n",
    "    Utility_test = X_test.pivot(index = 'UserID', columns ='MovieID', values = 'Rating')\n",
    "    \n",
    "    M = Utility_DF.to_numpy()\n",
    "    M_test = Utility_test.to_numpy()\n",
    "    model_matrix = Matrix_Decomposition(M, iterations = 90)\n",
    "    uv = model_matrix.UV()\n",
    "    r=np.dot(model_matrix.U, model_matrix.V)+np.nanmean(M,axis=0, keepdims=True)+np.nanmean(M,axis=1, keepdims=True)\n",
    "    rmse = np.sqrt(np.nanmean((r - M_test)**2))\n",
    "    rmses += [rmse]\n",
    "    mae = np.nanmean(abs(r - M_test))\n",
    "    maes += [mae]"
   ]
  },
  {
   "cell_type": "code",
   "execution_count": null,
   "id": "c4f80d23",
   "metadata": {},
   "outputs": [],
   "source": [
    "r=np.dot(model_matrix.U, model_matrix.V)+np.nanmean(M,axis=0, keepdims=True)+np.nanmean(M,axis=1, keepdims=True)"
   ]
  },
  {
   "cell_type": "code",
   "execution_count": null,
   "id": "37cb0474",
   "metadata": {
    "scrolled": true
   },
   "outputs": [],
   "source": [
    "np.sqrt(np.nanmean((M-r)**2))"
   ]
  },
  {
   "cell_type": "code",
   "execution_count": null,
   "id": "b08c2607",
   "metadata": {},
   "outputs": [],
   "source": []
  }
 ],
 "metadata": {
  "kernelspec": {
   "display_name": "Python 3.9.12 ('base')",
   "language": "python",
   "name": "python3"
  },
  "language_info": {
   "codemirror_mode": {
    "name": "ipython",
    "version": 3
   },
   "file_extension": ".py",
   "mimetype": "text/x-python",
   "name": "python",
   "nbconvert_exporter": "python",
   "pygments_lexer": "ipython3",
   "version": "3.9.12"
  },
  "vscode": {
   "interpreter": {
    "hash": "16a0f2890d1def7920885bcd7e8b768c0e805614be8083e52d1bdef4cb90280f"
   }
  }
 },
 "nbformat": 4,
 "nbformat_minor": 5
}
