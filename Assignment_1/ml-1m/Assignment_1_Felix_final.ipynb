{
 "cells": [
  {
   "cell_type": "markdown",
   "metadata": {},
   "source": [
    "# Assignment 1\n"
   ]
  },
  {
   "cell_type": "code",
   "execution_count": 4,
   "metadata": {},
   "outputs": [],
   "source": [
    "import pandas as pd\n",
    "from sklearn.model_selection import KFold"
   ]
  },
  {
   "cell_type": "code",
   "execution_count": 5,
   "metadata": {},
   "outputs": [
    {
     "data": {
      "text/html": [
       "<div>\n",
       "<style scoped>\n",
       "    .dataframe tbody tr th:only-of-type {\n",
       "        vertical-align: middle;\n",
       "    }\n",
       "\n",
       "    .dataframe tbody tr th {\n",
       "        vertical-align: top;\n",
       "    }\n",
       "\n",
       "    .dataframe thead th {\n",
       "        text-align: right;\n",
       "    }\n",
       "</style>\n",
       "<table border=\"1\" class=\"dataframe\">\n",
       "  <thead>\n",
       "    <tr style=\"text-align: right;\">\n",
       "      <th></th>\n",
       "      <th>MovieID</th>\n",
       "      <th>Title</th>\n",
       "      <th>Genres</th>\n",
       "    </tr>\n",
       "  </thead>\n",
       "  <tbody>\n",
       "    <tr>\n",
       "      <th>0</th>\n",
       "      <td>1</td>\n",
       "      <td>Toy Story (1995)</td>\n",
       "      <td>Animation|Children's|Comedy</td>\n",
       "    </tr>\n",
       "    <tr>\n",
       "      <th>1</th>\n",
       "      <td>2</td>\n",
       "      <td>Jumanji (1995)</td>\n",
       "      <td>Adventure|Children's|Fantasy</td>\n",
       "    </tr>\n",
       "    <tr>\n",
       "      <th>2</th>\n",
       "      <td>3</td>\n",
       "      <td>Grumpier Old Men (1995)</td>\n",
       "      <td>Comedy|Romance</td>\n",
       "    </tr>\n",
       "    <tr>\n",
       "      <th>3</th>\n",
       "      <td>4</td>\n",
       "      <td>Waiting to Exhale (1995)</td>\n",
       "      <td>Comedy|Drama</td>\n",
       "    </tr>\n",
       "    <tr>\n",
       "      <th>4</th>\n",
       "      <td>5</td>\n",
       "      <td>Father of the Bride Part II (1995)</td>\n",
       "      <td>Comedy</td>\n",
       "    </tr>\n",
       "  </tbody>\n",
       "</table>\n",
       "</div>"
      ],
      "text/plain": [
       "   MovieID                               Title                        Genres\n",
       "0        1                    Toy Story (1995)   Animation|Children's|Comedy\n",
       "1        2                      Jumanji (1995)  Adventure|Children's|Fantasy\n",
       "2        3             Grumpier Old Men (1995)                Comedy|Romance\n",
       "3        4            Waiting to Exhale (1995)                  Comedy|Drama\n",
       "4        5  Father of the Bride Part II (1995)                        Comedy"
      ]
     },
     "metadata": {},
     "output_type": "display_data"
    },
    {
     "data": {
      "text/html": [
       "<div>\n",
       "<style scoped>\n",
       "    .dataframe tbody tr th:only-of-type {\n",
       "        vertical-align: middle;\n",
       "    }\n",
       "\n",
       "    .dataframe tbody tr th {\n",
       "        vertical-align: top;\n",
       "    }\n",
       "\n",
       "    .dataframe thead th {\n",
       "        text-align: right;\n",
       "    }\n",
       "</style>\n",
       "<table border=\"1\" class=\"dataframe\">\n",
       "  <thead>\n",
       "    <tr style=\"text-align: right;\">\n",
       "      <th></th>\n",
       "      <th>UserID</th>\n",
       "      <th>Gender</th>\n",
       "      <th>Age</th>\n",
       "      <th>Occupation</th>\n",
       "      <th>Zip-code</th>\n",
       "    </tr>\n",
       "  </thead>\n",
       "  <tbody>\n",
       "    <tr>\n",
       "      <th>0</th>\n",
       "      <td>1</td>\n",
       "      <td>F</td>\n",
       "      <td>1</td>\n",
       "      <td>10</td>\n",
       "      <td>48067</td>\n",
       "    </tr>\n",
       "    <tr>\n",
       "      <th>1</th>\n",
       "      <td>2</td>\n",
       "      <td>M</td>\n",
       "      <td>56</td>\n",
       "      <td>16</td>\n",
       "      <td>70072</td>\n",
       "    </tr>\n",
       "    <tr>\n",
       "      <th>2</th>\n",
       "      <td>3</td>\n",
       "      <td>M</td>\n",
       "      <td>25</td>\n",
       "      <td>15</td>\n",
       "      <td>55117</td>\n",
       "    </tr>\n",
       "    <tr>\n",
       "      <th>3</th>\n",
       "      <td>4</td>\n",
       "      <td>M</td>\n",
       "      <td>45</td>\n",
       "      <td>7</td>\n",
       "      <td>02460</td>\n",
       "    </tr>\n",
       "    <tr>\n",
       "      <th>4</th>\n",
       "      <td>5</td>\n",
       "      <td>M</td>\n",
       "      <td>25</td>\n",
       "      <td>20</td>\n",
       "      <td>55455</td>\n",
       "    </tr>\n",
       "  </tbody>\n",
       "</table>\n",
       "</div>"
      ],
      "text/plain": [
       "   UserID Gender  Age  Occupation Zip-code\n",
       "0       1      F    1          10    48067\n",
       "1       2      M   56          16    70072\n",
       "2       3      M   25          15    55117\n",
       "3       4      M   45           7    02460\n",
       "4       5      M   25          20    55455"
      ]
     },
     "metadata": {},
     "output_type": "display_data"
    },
    {
     "data": {
      "text/html": [
       "<div>\n",
       "<style scoped>\n",
       "    .dataframe tbody tr th:only-of-type {\n",
       "        vertical-align: middle;\n",
       "    }\n",
       "\n",
       "    .dataframe tbody tr th {\n",
       "        vertical-align: top;\n",
       "    }\n",
       "\n",
       "    .dataframe thead th {\n",
       "        text-align: right;\n",
       "    }\n",
       "</style>\n",
       "<table border=\"1\" class=\"dataframe\">\n",
       "  <thead>\n",
       "    <tr style=\"text-align: right;\">\n",
       "      <th></th>\n",
       "      <th>UserID</th>\n",
       "      <th>MovieID</th>\n",
       "      <th>Rating</th>\n",
       "      <th>Timestamp</th>\n",
       "    </tr>\n",
       "  </thead>\n",
       "  <tbody>\n",
       "    <tr>\n",
       "      <th>0</th>\n",
       "      <td>1</td>\n",
       "      <td>1193</td>\n",
       "      <td>5</td>\n",
       "      <td>978300760</td>\n",
       "    </tr>\n",
       "    <tr>\n",
       "      <th>1</th>\n",
       "      <td>1</td>\n",
       "      <td>661</td>\n",
       "      <td>3</td>\n",
       "      <td>978302109</td>\n",
       "    </tr>\n",
       "    <tr>\n",
       "      <th>2</th>\n",
       "      <td>1</td>\n",
       "      <td>914</td>\n",
       "      <td>3</td>\n",
       "      <td>978301968</td>\n",
       "    </tr>\n",
       "    <tr>\n",
       "      <th>3</th>\n",
       "      <td>1</td>\n",
       "      <td>3408</td>\n",
       "      <td>4</td>\n",
       "      <td>978300275</td>\n",
       "    </tr>\n",
       "    <tr>\n",
       "      <th>4</th>\n",
       "      <td>1</td>\n",
       "      <td>2355</td>\n",
       "      <td>5</td>\n",
       "      <td>978824291</td>\n",
       "    </tr>\n",
       "  </tbody>\n",
       "</table>\n",
       "</div>"
      ],
      "text/plain": [
       "   UserID  MovieID  Rating  Timestamp\n",
       "0       1     1193       5  978300760\n",
       "1       1      661       3  978302109\n",
       "2       1      914       3  978301968\n",
       "3       1     3408       4  978300275\n",
       "4       1     2355       5  978824291"
      ]
     },
     "execution_count": 5,
     "metadata": {},
     "output_type": "execute_result"
    }
   ],
   "source": [
    "# loading data\n",
    "movies = pd.read_csv(\n",
    "    'movies.dat',\n",
    "    sep = \"::\",\n",
    "    names = ['MovieID', 'Title', 'Genres'],\n",
    "    encoding='latin-1',\n",
    "    engine='python',\n",
    ")\n",
    "\n",
    "ratings = pd.read_csv(\n",
    "    'ratings.dat',\n",
    "    sep = \"::\",\n",
    "    names = ['UserID','MovieID','Rating','Timestamp'],\n",
    "    encoding='latin-1',\n",
    "    engine='python',\n",
    ")\n",
    "\n",
    "users = pd.read_csv(\n",
    "    'users.dat',\n",
    "    sep = \"::\",\n",
    "    names = ['UserID', 'Gender', 'Age','Occupation','Zip-code'],\n",
    "    encoding='latin-1',\n",
    "    engine='python',\n",
    ")\n",
    "display(movies.head())\n",
    "display(users.head())\n",
    "ratings.head()"
   ]
  },
  {
   "cell_type": "markdown",
   "metadata": {},
   "source": [
    "## 1. Recommender System"
   ]
  },
  {
   "cell_type": "markdown",
   "metadata": {},
   "source": [
    "## 1.1 Naive Approaches"
   ]
  },
  {
   "cell_type": "markdown",
   "metadata": {},
   "source": [
    "## 1.2 UV Matrix Decomposition"
   ]
  },
  {
   "cell_type": "markdown",
   "metadata": {},
   "source": [
    "Notes:\n",
    "To increase our chances of finding the global minimum, we need to pick many dif-\n",
    "ferent starting points, that is, different choices of the initial matrices U and V .\n",
    "However, there is never a guarantee that our best local minimum will be the\n",
    "global minimum.\n"
   ]
  },
  {
   "cell_type": "code",
   "execution_count": 6,
   "metadata": {},
   "outputs": [],
   "source": [
    "import numpy as np\n"
   ]
  },
  {
   "cell_type": "code",
   "execution_count": 7,
   "metadata": {},
   "outputs": [
    {
     "name": "stdout",
     "output_type": "stream",
     "text": [
      "[[ 5. nan nan ... nan nan nan]\n",
      " [nan nan nan ... nan nan nan]\n",
      " [nan nan nan ... nan nan nan]\n",
      " ...\n",
      " [nan nan nan ... nan nan nan]\n",
      " [nan nan nan ... nan nan nan]\n",
      " [ 3. nan nan ... nan nan nan]]\n",
      "[[ 0.81132075         nan         nan ...         nan         nan\n",
      "          nan]\n",
      " [        nan         nan         nan ...         nan         nan\n",
      "          nan]\n",
      " [        nan         nan         nan ...         nan         nan\n",
      "          nan]\n",
      " ...\n",
      " [        nan         nan         nan ...         nan         nan\n",
      "          nan]\n",
      " [        nan         nan         nan ...         nan         nan\n",
      "          nan]\n",
      " [-0.57771261         nan         nan ...         nan         nan\n",
      "          nan]]\n"
     ]
    }
   ],
   "source": [
    "# creating matrix M\n",
    "Utility_DF = ratings.pivot(index = 'UserID', columns ='MovieID', values = 'Rating')\n",
    "M = Utility_DF.to_numpy()\n",
    "M.shape\n",
    "B = M - np.nanmean(M,axis=1, keepdims=True)\n",
    "print(M)\n",
    "print(B)\n"
   ]
  },
  {
   "cell_type": "code",
   "execution_count": 50,
   "metadata": {},
   "outputs": [],
   "source": [
    "class Matrix_Decomposition:\n",
    "    def __init__(self, matrix, dimensions = 5, iterations = 1):\n",
    "        self.matrix = matrix\n",
    "        self.n = self.matrix.shape[0]\n",
    "        self.m = self.matrix.shape[1]\n",
    "        self.d = dimensions\n",
    "        self.normalized = self.matrix - self.matrix.mean(axis=1, keepdims=True)\n",
    "        self.U = np.random.rand(self.n,self.d)\n",
    "        self.V = np.random.rand(self.d,self.m)\n",
    "        self.iter = iterations\n",
    "\n",
    "\n",
    "        \n",
    "    def rmse(self):\n",
    "        e = 0.\n",
    "        c = 0.\n",
    "        UV = np.dot(self.U,self.V)\n",
    "        for i in range(0,self.n):\n",
    "            for j in np.where(~np.isnan(self.normalized[i])):\n",
    "                e += (self.normalized[i,j]-UV[i,j])**2\n",
    "                c += 1\n",
    "                return np.sqrt(e/c)\n",
    "\n",
    "\n",
    "\n",
    "\n",
    "\n",
    "    def UV(self):\n",
    "        err = []\n",
    "        Us =dict()\n",
    "        Vs = dict()\n",
    "\n",
    "        # number of ittertaions \n",
    "        for i in range(self.iter):\n",
    "            # decompose User matrix\n",
    "            for r in range(0,self.n):\n",
    "                for s in range(0,self.d):\n",
    "                    m = np.array(self.normalized[r,:])\n",
    "                    v = np.array(self.V[s,:])\n",
    "                    v[np.isnan(m)] = np.nan\n",
    "                    \n",
    "                    # formula page 334\n",
    "                    #self.U[r,s]=float(np.nansum(self.V[s,:]*(m-np.matmul(self.normalized[r,:],self.V[:])-(self.U[r,s]*self.V[s,:]))))/np.nansum(np.square(v))\n",
    "                    self.U[r,s]=float(np.nansum(self.V[s,:] * (m-np.nansum(self.U[r,s]*self.V[s,:]))))/np.nansum(np.square(v))\n",
    "            \n",
    "            # decompose item matrix\n",
    "            for s in range(0,self.m):\n",
    "                for r in range(0,self.d):\n",
    "                    m = np.array(self.normalized[:,s])\n",
    "                    u = np.array(self.U[:,r])\n",
    "                    u[np.isnan(m)] = np.nan\n",
    "                    \n",
    "                    # formula page 334\n",
    "                    #self.V[r,s]=float(np.nansum(self.U[:, r] * (m - np.matmul(self.U[:], self.V[:,s]) - (self.V[r, s] * self.U[:, r]))))/np.nansum(np.square(u))\n",
    "                    self.V[r,s]=float(np.nansum(self.U[:, r] * (m - np.nansum(self.V[r, s] * self.U[:, r]))))/np.nansum(np.square(u))\n",
    "\n",
    "\n",
    "\n",
    "\n",
    "            err.append(self.rmse())\n",
    "            Us[i] = self.U\n",
    "            Vs[i] = self.V\n",
    "        return self.U, self.V, err\n"
   ]
  },
  {
   "cell_type": "code",
   "execution_count": 51,
   "metadata": {},
   "outputs": [],
   "source": [
    "model_matrix = Matrix_Decomposition(M)"
   ]
  },
  {
   "cell_type": "code",
   "execution_count": 52,
   "metadata": {},
   "outputs": [
    {
     "name": "stderr",
     "output_type": "stream",
     "text": [
      "C:\\Users\\FELIX~1.WEN\\AppData\\Local\\Temp/ipykernel_8272/2489911493.py:44: RuntimeWarning: invalid value encountered in double_scalars\n",
      "  self.U[r,s]=float(np.nansum(self.V[s,:] * (m-np.nansum(self.U[r,s]*self.V[s,:]))))/np.nansum(np.square(v))\n",
      "C:\\Users\\FELIX~1.WEN\\AppData\\Local\\Temp/ipykernel_8272/2489911493.py:55: RuntimeWarning: invalid value encountered in double_scalars\n",
      "  self.V[r,s]=float(np.nansum(self.U[:, r] * (m - np.nansum(self.V[r, s] * self.U[:, r]))))/np.nansum(np.square(u))\n"
     ]
    },
    {
     "data": {
      "text/plain": [
       "(array([[nan, nan, nan, nan, nan],\n",
       "        [nan, nan, nan, nan, nan],\n",
       "        [nan, nan, nan, nan, nan],\n",
       "        ...,\n",
       "        [nan, nan, nan, nan, nan],\n",
       "        [nan, nan, nan, nan, nan],\n",
       "        [nan, nan, nan, nan, nan]]),\n",
       " array([[nan, nan, nan, ..., nan, nan, nan],\n",
       "        [nan, nan, nan, ..., nan, nan, nan],\n",
       "        [nan, nan, nan, ..., nan, nan, nan],\n",
       "        [nan, nan, nan, ..., nan, nan, nan],\n",
       "        [nan, nan, nan, ..., nan, nan, nan]]),\n",
       " [array([], dtype=float64)])"
      ]
     },
     "execution_count": 52,
     "metadata": {},
     "output_type": "execute_result"
    }
   ],
   "source": [
    "model_matrix.UV()"
   ]
  },
  {
   "cell_type": "code",
   "execution_count": 15,
   "metadata": {},
   "outputs": [],
   "source": [
    "n = B.shape[0]\n",
    "m = B.shape[1]\n",
    "U = np.random.rand(n,5)\n",
    "V = np.random.rand(5,m)\n",
    "for r in range(0,n):\n",
    "    for s in range(0,5):\n",
    "        m = np.array(B[r,:])\n",
    "        v = np.array(V[s,:])\n",
    "        v[np.isnan(m)] = np.nan\n",
    "        \n",
    "        # formula page 334\n",
    "        #self.U[r,s]=float(np.nansum(self.V[s,:]*(m-np.matmul(self.normalized[r,:],self.V[:])-(self.U[r,s]*self.V[s,:]))))/np.nansum(np.square(v))\n",
    "        U[r,s]=float(np.nansum(V[s,:]*(m-np.nansum(U[r,s]*V[s,:]))))/np.nansum(np.square(v))\n",
    "\n"
   ]
  },
  {
   "cell_type": "code",
   "execution_count": 49,
   "metadata": {},
   "outputs": [
    {
     "data": {
      "text/plain": [
       "3706"
      ]
     },
     "execution_count": 49,
     "metadata": {},
     "output_type": "execute_result"
    }
   ],
   "source": [
    "B[4].shape[0]"
   ]
  }
 ],
 "metadata": {
  "kernelspec": {
   "display_name": "Python 3.9.7 ('base')",
   "language": "python",
   "name": "python3"
  },
  "language_info": {
   "codemirror_mode": {
    "name": "ipython",
    "version": 3
   },
   "file_extension": ".py",
   "mimetype": "text/x-python",
   "name": "python",
   "nbconvert_exporter": "python",
   "pygments_lexer": "ipython3",
   "version": "3.9.7"
  },
  "orig_nbformat": 4,
  "vscode": {
   "interpreter": {
    "hash": "16a0f2890d1def7920885bcd7e8b768c0e805614be8083e52d1bdef4cb90280f"
   }
  }
 },
 "nbformat": 4,
 "nbformat_minor": 2
}
